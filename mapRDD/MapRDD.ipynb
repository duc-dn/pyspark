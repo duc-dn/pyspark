{
 "cells": [
  {
   "cell_type": "markdown",
   "id": "a2f3bb47",
   "metadata": {},
   "source": [
    "#### Map() fucntion only applies for RDD, not for DataFrame\n",
    "- Therefor, if you want to apply for DataFrame, you will conver DataFrame to RDD\n",
    "- Map function will loop through all element of a RDD or DataFrame, after each loop, it will apply lamda for each row (each element)\n",
    "- `=> map() return a new RDD when appling it`"
   ]
  },
  {
   "cell_type": "code",
   "execution_count": 1,
   "id": "53ce61af",
   "metadata": {},
   "outputs": [
    {
     "name": "stderr",
     "output_type": "stream",
     "text": [
      "23/02/22 10:23:23 WARN Utils: Your hostname, duc-Inspiron-3471 resolves to a loopback address: 127.0.1.1; using 10.1.124.58 instead (on interface enp1s0)\n",
      "23/02/22 10:23:23 WARN Utils: Set SPARK_LOCAL_IP if you need to bind to another address\n",
      "23/02/22 10:23:23 WARN NativeCodeLoader: Unable to load native-hadoop library for your platform... using builtin-java classes where applicable\n",
      "Using Spark's default log4j profile: org/apache/spark/log4j-defaults.properties\n",
      "Setting default log level to \"WARN\".\n",
      "To adjust logging level use sc.setLogLevel(newLevel). For SparkR, use setLogLevel(newLevel).\n"
     ]
    }
   ],
   "source": [
    "from pyspark.sql import SparkSession\n",
    "spark = SparkSession.builder.master(\"local[1]\") \\\n",
    "    .appName(\"SparkByExamples.com\").getOrCreate()\n",
    "\n",
    "data = [\"Project\",\"Gutenberg’s\",\"Alice’s\",\"Adventures\",\n",
    "\"in\",\"Wonderland\",\"Project\",\"Gutenberg’s\",\"Adventures\",\n",
    "\"in\",\"Wonderland\",\"Project\",\"Gutenberg’s\"]"
   ]
  },
  {
   "cell_type": "code",
   "execution_count": 5,
   "id": "3c0ede0a",
   "metadata": {},
   "outputs": [
    {
     "data": {
      "text/plain": [
       "['Project',\n",
       " 'Gutenberg’s',\n",
       " 'Alice’s',\n",
       " 'Adventures',\n",
       " 'in',\n",
       " 'Wonderland',\n",
       " 'Project',\n",
       " 'Gutenberg’s',\n",
       " 'Adventures',\n",
       " 'in',\n",
       " 'Wonderland',\n",
       " 'Project',\n",
       " 'Gutenberg’s']"
      ]
     },
     "execution_count": 5,
     "metadata": {},
     "output_type": "execute_result"
    }
   ],
   "source": [
    "rdd = spark.sparkContext.parallelize(data)\n",
    "rdd.collect()"
   ]
  },
  {
   "cell_type": "code",
   "execution_count": 4,
   "id": "4a875512",
   "metadata": {},
   "outputs": [
    {
     "name": "stderr",
     "output_type": "stream",
     "text": [
      "\r",
      "[Stage 0:>                                                          (0 + 1) / 1]\r",
      "\r",
      "                                                                                \r"
     ]
    },
    {
     "data": {
      "text/plain": [
       "[('Project', 1),\n",
       " ('Gutenberg’s', 1),\n",
       " ('Alice’s', 1),\n",
       " ('Adventures', 1),\n",
       " ('in', 1),\n",
       " ('Wonderland', 1),\n",
       " ('Project', 1),\n",
       " ('Gutenberg’s', 1),\n",
       " ('Adventures', 1),\n",
       " ('in', 1),\n",
       " ('Wonderland', 1),\n",
       " ('Project', 1),\n",
       " ('Gutenberg’s', 1)]"
      ]
     },
     "execution_count": 4,
     "metadata": {},
     "output_type": "execute_result"
    }
   ],
   "source": [
    "# adding a new element with value 1 for each element\n",
    "# => Return RDD is PairRDDFunctions which contains key - value pairs\n",
    "rdd2 = rdd.map(lambda x: (x, 1))\n",
    "rdd2.collect()"
   ]
  },
  {
   "cell_type": "code",
   "execution_count": 6,
   "id": "24573c56",
   "metadata": {},
   "outputs": [
    {
     "name": "stdout",
     "output_type": "stream",
     "text": [
      "('Project', 1)\n",
      "('Gutenberg’s', 1)\n",
      "('Alice’s', 1)\n",
      "('Adventures', 1)\n",
      "('in', 1)\n",
      "('Wonderland', 1)\n",
      "('Project', 1)\n",
      "('Gutenberg’s', 1)\n",
      "('Adventures', 1)\n",
      "('in', 1)\n",
      "('Wonderland', 1)\n",
      "('Project', 1)\n",
      "('Gutenberg’s', 1)\n"
     ]
    }
   ],
   "source": [
    "for e in rdd2.collect():\n",
    "    print(e)"
   ]
  },
  {
   "cell_type": "markdown",
   "id": "fed79c55",
   "metadata": {},
   "source": [
    "#### Map() fucntion only applies for RDD, not for DataFrame\n",
    "- Therefor, if you want to apply for DataFrame, you will conver DataFrame to RDD"
   ]
  },
  {
   "cell_type": "code",
   "execution_count": 7,
   "id": "a3359045",
   "metadata": {},
   "outputs": [
    {
     "name": "stdout",
     "output_type": "stream",
     "text": [
      "+---------+--------+------+------+\n",
      "|firstname|lastname|gender|salary|\n",
      "+---------+--------+------+------+\n",
      "|    James|   Smith|     M|    30|\n",
      "|     Anna|    Rose|     F|    41|\n",
      "|   Robert|Williams|     M|    62|\n",
      "+---------+--------+------+------+\n",
      "\n"
     ]
    }
   ],
   "source": [
    "data = [('James','Smith','M',30),\n",
    "  ('Anna','Rose','F',41),\n",
    "  ('Robert','Williams','M',62), \n",
    "]\n",
    "\n",
    "columns = [\"firstname\",\"lastname\",\"gender\",\"salary\"]\n",
    "df = spark.createDataFrame(data=data, schema = columns)\n",
    "df.show()"
   ]
  },
  {
   "cell_type": "code",
   "execution_count": 8,
   "id": "87416e02",
   "metadata": {},
   "outputs": [
    {
     "name": "stdout",
     "output_type": "stream",
     "text": [
      "root\n",
      " |-- firstname: string (nullable = true)\n",
      " |-- lastname: string (nullable = true)\n",
      " |-- gender: string (nullable = true)\n",
      " |-- salary: long (nullable = true)\n",
      "\n"
     ]
    }
   ],
   "source": [
    "df.printSchema()"
   ]
  },
  {
   "cell_type": "code",
   "execution_count": 12,
   "id": "2861b4e6",
   "metadata": {},
   "outputs": [
    {
     "data": {
      "text/plain": [
       "[('James,Smith', 'M', 60),\n",
       " ('Anna,Rose', 'F', 82),\n",
       " ('Robert,Williams', 'M', 124)]"
      ]
     },
     "execution_count": 12,
     "metadata": {},
     "output_type": "execute_result"
    }
   ],
   "source": [
    "# Refering columns by index\n",
    "rdd2 = df.rdd.map(lambda x: \n",
    "\t(x[0] + \",\" + x[1], x[2], x[3] * 2)                 \n",
    ")\n",
    "rdd2.collect()"
   ]
  },
  {
   "cell_type": "code",
   "execution_count": 15,
   "id": "b47734ae",
   "metadata": {},
   "outputs": [
    {
     "name": "stdout",
     "output_type": "stream",
     "text": [
      "+---------------+------+-------------+\n",
      "|           name|gender|double_salary|\n",
      "+---------------+------+-------------+\n",
      "|    James,Smith|     M|           60|\n",
      "|      Anna,Rose|     F|           82|\n",
      "|Robert,Williams|     M|          124|\n",
      "+---------------+------+-------------+\n",
      "\n"
     ]
    }
   ],
   "source": [
    "df2 = rdd2.toDF([\"name\", \"gender\", \"double_salary\"])\n",
    "df2.show()"
   ]
  },
  {
   "cell_type": "code",
   "execution_count": 28,
   "id": "c9bd93c4",
   "metadata": {},
   "outputs": [
    {
     "data": {
      "text/plain": [
       "[('James,Smith', 'M', 60),\n",
       " ('Anna,Rose', 'F', 82),\n",
       " ('Robert,Williams', 'M', 124)]"
      ]
     },
     "execution_count": 28,
     "metadata": {},
     "output_type": "execute_result"
    }
   ],
   "source": [
    "# refering columns by columns name\n",
    "rdd3 = df.rdd.map(lambda x: \n",
    "\t(x[\"firstname\"]+\",\"+x[\"lastname\"],x[\"gender\"],x[\"salary\"]*2)\n",
    ")\n",
    "rdd3.collect()"
   ]
  },
  {
   "cell_type": "code",
   "execution_count": 29,
   "id": "509c6229",
   "metadata": {},
   "outputs": [
    {
     "name": "stdout",
     "output_type": "stream",
     "text": [
      "+---------------+------+----------+\n",
      "|       fullname|gender|new_salary|\n",
      "+---------------+------+----------+\n",
      "|    James,Smith|     M|        60|\n",
      "|      Anna,Rose|     F|        82|\n",
      "|Robert,Williams|     M|       124|\n",
      "+---------------+------+----------+\n",
      "\n"
     ]
    }
   ],
   "source": [
    "df3 = rdd3.toDF([\"fullname\", \"gender\", \"new_salary\"])\n",
    "df3.show()"
   ]
  },
  {
   "cell_type": "code",
   "execution_count": 30,
   "id": "8f3a0f88",
   "metadata": {},
   "outputs": [
    {
     "data": {
      "text/plain": [
       "[('James Smith', 'm', 60),\n",
       " ('Anna Rose', 'f', 82),\n",
       " ('Robert Williams', 'm', 124)]"
      ]
     },
     "execution_count": 30,
     "metadata": {},
     "output_type": "execute_result"
    }
   ],
   "source": [
    "# by calling function\n",
    "def get_info(x):\n",
    "    firstName = x.firstname\n",
    "    lastName = x.lastname\n",
    "    name = f'{firstName} {lastName}'\n",
    "    gender = x.gender.lower()\n",
    "    salary = x.salary * 2\n",
    "    return (name, gender, salary)\n",
    "\n",
    "rdd2 = df.rdd.map(lambda x: get_info(x))\n",
    "rdd2.collect()"
   ]
  },
  {
   "cell_type": "code",
   "execution_count": null,
   "id": "ed060b28",
   "metadata": {},
   "outputs": [],
   "source": []
  }
 ],
 "metadata": {
  "kernelspec": {
   "display_name": "Python 3 (ipykernel)",
   "language": "python",
   "name": "python3"
  },
  "language_info": {
   "codemirror_mode": {
    "name": "ipython",
    "version": 3
   },
   "file_extension": ".py",
   "mimetype": "text/x-python",
   "name": "python",
   "nbconvert_exporter": "python",
   "pygments_lexer": "ipython3",
   "version": "3.10.6"
  }
 },
 "nbformat": 4,
 "nbformat_minor": 5
}
